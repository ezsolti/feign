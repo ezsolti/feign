{
 "cells": [
  {
   "cell_type": "markdown",
   "metadata": {},
   "source": [
    "# feign.geometry tutorial\n",
    "\n",
    "The API of feign requires the definition of several geometric objects, thus the user needs some familiarity of the classes of the feign.geometry modul. The classes have several methods which are not needed to be used by the user, only used by the module feign.blocks. In the following it is highlighted whether a method is needed to be used by the user.\n",
    "\n",
    "feign.geometry has an API similar to sympy, nevertheless, feign.geometry is not a symbolic module. \n",
    "\n",
    "**Every coordinate is meant in cm units.**\n",
    "\n",
    "The objects which might be used by the user are the following:\n",
    "\n",
    "- Point\n",
    "- Segment\n",
    "- Circle\n",
    "- Rectangle\n",
    "\n",
    "Let's import first the module."
   ]
  },
  {
   "cell_type": "code",
   "execution_count": 1,
   "metadata": {},
   "outputs": [],
   "source": [
    "from feign.geometry import *"
   ]
  },
  {
   "cell_type": "markdown",
   "metadata": {},
   "source": [
    "## Point()\n",
    "\n",
    "A 2D Point is defined through its x,y coordinates. Its attributes are also x and y. \n",
    "\n",
    "When writing an input one needs to use points in order to define:\n",
    "\n",
    "- Detector points (mandatory)\n",
    "- Absorbers (giving the corners of Rectangles, see later) (optional)\n",
    "- Pool (giving the corners of Rectangle, see later) (optional)\n",
    "\n",
    "\n"
   ]
  },
  {
   "cell_type": "code",
   "execution_count": 2,
   "metadata": {},
   "outputs": [],
   "source": [
    "p=Point(3,4)\n",
    "q=Point(x=3.4,y=32)"
   ]
  },
  {
   "cell_type": "code",
   "execution_count": 3,
   "metadata": {},
   "outputs": [
    {
     "name": "stdout",
     "output_type": "stream",
     "text": [
      "Point(3.000, 4.000)\n",
      "3 4\n",
      "Point(3.400, 32.000)\n",
      "3.4 32\n"
     ]
    }
   ],
   "source": [
    "print(p)\n",
    "print(p.x,p.y)\n",
    "print(q)\n",
    "print(q.x,q.y)"
   ]
  },
  {
   "cell_type": "markdown",
   "metadata": {},
   "source": [
    "### Methods may be used\n",
    "\n",
    "While writing the input, two methods may come handy:\n",
    "\n",
    "- rotate: for rotating the point around (0,0) with alpha angle (in deg)\n",
    "- translate: translating the point with (xt,yt) vector.\n",
    "\n",
    "Both methods will create a new object."
   ]
  },
  {
   "cell_type": "code",
   "execution_count": 4,
   "metadata": {},
   "outputs": [
    {
     "data": {
      "text/plain": [
       "Point(-0.707, 4.950)"
      ]
     },
     "execution_count": 4,
     "metadata": {},
     "output_type": "execute_result"
    }
   ],
   "source": [
    "p.rotate(45)"
   ]
  },
  {
   "cell_type": "code",
   "execution_count": 5,
   "metadata": {},
   "outputs": [
    {
     "data": {
      "text/plain": [
       "Point(5.000, 5.000)"
      ]
     },
     "execution_count": 5,
     "metadata": {},
     "output_type": "execute_result"
    }
   ],
   "source": [
    "p.translate(2,1)"
   ]
  },
  {
   "cell_type": "markdown",
   "metadata": {},
   "source": [
    "### Other methods\n",
    "\n",
    "There are some other methods which are used in feign.blocks. \n",
    "\n",
    "- distance: distance between two points\n",
    "- inBetween: two decide whether a point lies on the same line as two other points, and whether it is between the two points\n",
    "- isEqual: to decide whether two points are the same."
   ]
  },
  {
   "cell_type": "code",
   "execution_count": 6,
   "metadata": {},
   "outputs": [
    {
     "data": {
      "text/plain": [
       "28.00285699709942"
      ]
     },
     "execution_count": 6,
     "metadata": {},
     "output_type": "execute_result"
    }
   ],
   "source": [
    "p.distance(q)"
   ]
  },
  {
   "cell_type": "code",
   "execution_count": 7,
   "metadata": {},
   "outputs": [
    {
     "data": {
      "text/plain": [
       "False"
      ]
     },
     "execution_count": 7,
     "metadata": {},
     "output_type": "execute_result"
    }
   ],
   "source": [
    "p.isEqual(q)"
   ]
  },
  {
   "cell_type": "code",
   "execution_count": 8,
   "metadata": {},
   "outputs": [
    {
     "data": {
      "text/plain": [
       "False"
      ]
     },
     "execution_count": 8,
     "metadata": {},
     "output_type": "execute_result"
    }
   ],
   "source": [
    "Point(1,2).inBetween(p,q)"
   ]
  },
  {
   "cell_type": "markdown",
   "metadata": {},
   "source": [
    "## Segment()\n",
    "\n",
    "A 2D Segment is defined through its end points p and q. Its attributes are p, q, points (list of [p,q]), slope, intercept. If the segment is vertically aligned, the slope is np.Inf, and the intercept becomes the intersection with the x axis.\n",
    "\n",
    "When writing an input one needs to use segments in order to define:\n",
    "\n",
    "- The front and back opening of collimators (optional)"
   ]
  },
  {
   "cell_type": "code",
   "execution_count": 9,
   "metadata": {},
   "outputs": [
    {
     "name": "stdout",
     "output_type": "stream",
     "text": [
      "Segment(Point(3.000, 4.000),Point(3.400, 32.000))\n",
      "[Point(3.000, 4.000), Point(3.400, 32.000)]\n",
      "3 4\n",
      "70.00000000000001\n",
      "-206.00000000000006\n",
      "inf\n"
     ]
    }
   ],
   "source": [
    "s=Segment(p,q)\n",
    "print(s)\n",
    "print(s.points)\n",
    "print(s.p.x,s.p.y)\n",
    "print(s.slope)\n",
    "print(s.intercept)\n",
    "print(Segment(Point(3,4),Point(3,6)).slope)"
   ]
  },
  {
   "cell_type": "markdown",
   "metadata": {},
   "source": [
    "### Methods may be used\n",
    "\n",
    "While writing the input, one method may come handy:\n",
    "\n",
    "- rotate: for rotating the segment around (0,0) with alpha angle (in deg)\n",
    "\n",
    "The method will create a new object."
   ]
  },
  {
   "cell_type": "code",
   "execution_count": 10,
   "metadata": {},
   "outputs": [
    {
     "data": {
      "text/plain": [
       "Segment(Point(-0.707, 4.950),Point(-20.223, 25.032))"
      ]
     },
     "execution_count": 10,
     "metadata": {},
     "output_type": "execute_result"
    }
   ],
   "source": [
    "s.rotate(45)"
   ]
  },
  {
   "cell_type": "markdown",
   "metadata": {},
   "source": [
    "### Other methods\n",
    "\n",
    "The segment class has one more method available:\n",
    "\n",
    "- intersection: intersection of two segments"
   ]
  },
  {
   "cell_type": "code",
   "execution_count": 11,
   "metadata": {},
   "outputs": [
    {
     "data": {
      "text/plain": [
       "[Point(3.007, 4.500)]"
      ]
     },
     "execution_count": 11,
     "metadata": {},
     "output_type": "execute_result"
    }
   ],
   "source": [
    "Segment(p,q).intersection(Segment(Point(-4.5,4.5),Point(5.5,4.5)))"
   ]
  },
  {
   "cell_type": "markdown",
   "metadata": {},
   "source": [
    "## Circle()\n",
    "\n",
    "A 2D Circle is defined through its center c and radius r. Its attributes are also c, r.\n",
    "\n",
    "When writing an input one may need to use circles in order to define:\n",
    "\n",
    "- Absorber elements (optional)"
   ]
  },
  {
   "cell_type": "code",
   "execution_count": 12,
   "metadata": {},
   "outputs": [
    {
     "name": "stdout",
     "output_type": "stream",
     "text": [
      "Circle(C=(4.500, 4.500),R=5.000)\n",
      "Point(4.500, 4.500)\n",
      "5\n"
     ]
    }
   ],
   "source": [
    "c=Circle(Point(4.5,4.5),5)\n",
    "print(c)\n",
    "print(c.c)\n",
    "print(c.r)"
   ]
  },
  {
   "cell_type": "markdown",
   "metadata": {},
   "source": [
    "### Other methods\n",
    "\n",
    "While writing the input, usually Circle methods are not needed. Nevertheless, there are two available methods:\n",
    "\n",
    "- intersection: intersection with a segment\n",
    "- encloses_point: to decide whether a point is within the circle"
   ]
  },
  {
   "cell_type": "code",
   "execution_count": 13,
   "metadata": {},
   "outputs": [
    {
     "data": {
      "text/plain": [
       "[Point(3.076, 9.293)]"
      ]
     },
     "execution_count": 13,
     "metadata": {},
     "output_type": "execute_result"
    }
   ],
   "source": [
    "c.intersection(s)"
   ]
  },
  {
   "cell_type": "code",
   "execution_count": 14,
   "metadata": {},
   "outputs": [
    {
     "data": {
      "text/plain": [
       "True"
      ]
     },
     "execution_count": 14,
     "metadata": {},
     "output_type": "execute_result"
    }
   ],
   "source": [
    "c.encloses_point(Point(5,5))"
   ]
  },
  {
   "cell_type": "markdown",
   "metadata": {},
   "source": [
    "## Rectangle()\n",
    "\n",
    "A 2D Rectangle is defined through its corner points p1, p2, p3, p4. Its attributes are the corner points p1, p2, p3, p4, corners a list of these poins, the side segments p1p2, p2p3, p3p4, p4p1, and sides a list of the side segments.\n",
    "\n",
    "The corners have to be defined in a clockwise or counter-clockwise order.\n",
    "\n",
    "In fact, a Rectangle() object can be a general convex quadritlateral, the choice of naming is only to avoid typos. \n",
    "\n",
    "When writing an input one needs to use rectangles in order to define:\n",
    "\n",
    "- The pool (optional)\n",
    "- Absorbers elements (optional)"
   ]
  },
  {
   "cell_type": "code",
   "execution_count": 15,
   "metadata": {},
   "outputs": [
    {
     "name": "stdout",
     "output_type": "stream",
     "text": [
      "Rectangle(Point(-3.000, -3.000),Point(-3.000, 3.000),Point(3.000, 3.000),Point(3.000, -3.000))\n",
      "Point(-3.000, -3.000) Point(-3.000, 3.000) Point(3.000, 3.000) Point(3.000, -3.000)\n",
      "[Point(-3.000, -3.000), Point(-3.000, 3.000), Point(3.000, 3.000), Point(3.000, -3.000)]\n",
      "Segment(Point(-3.000, -3.000),Point(-3.000, 3.000)) Segment(Point(-3.000, 3.000),Point(3.000, 3.000)) Segment(Point(3.000, 3.000),Point(3.000, -3.000)) Segment(Point(3.000, -3.000),Point(-3.000, -3.000))\n",
      "[Segment(Point(-3.000, -3.000),Point(-3.000, 3.000)), Segment(Point(-3.000, 3.000),Point(3.000, 3.000)), Segment(Point(3.000, 3.000),Point(3.000, -3.000)), Segment(Point(3.000, -3.000),Point(-3.000, -3.000))]\n"
     ]
    }
   ],
   "source": [
    "r=Rectangle(Point(-3,-3),Point(-3,3),Point(3,3),Point(3,-3))\n",
    "print(r)\n",
    "print(r.p1,r.p2,r.p3,r.p4)\n",
    "print(r.corners)\n",
    "print(r.p1p2,r.p2p3,r.p3p4,r.p4p1)\n",
    "print(r.sides)"
   ]
  },
  {
   "cell_type": "markdown",
   "metadata": {},
   "source": [
    "### Methods may be used\n",
    "\n",
    "While writing the input, one method may come handy:\n",
    "\n",
    "- rotate: for rotating the rectangle around (0,0) with alpha angle (in deg)\n",
    "\n",
    "The method will create a new object."
   ]
  },
  {
   "cell_type": "code",
   "execution_count": 16,
   "metadata": {},
   "outputs": [
    {
     "data": {
      "text/plain": [
       "Rectangle(Point(-0.000, -4.243),Point(-4.243, 0.000),Point(0.000, 4.243),Point(4.243, -0.000))"
      ]
     },
     "execution_count": 16,
     "metadata": {},
     "output_type": "execute_result"
    }
   ],
   "source": [
    "r.rotate(45)"
   ]
  },
  {
   "cell_type": "markdown",
   "metadata": {},
   "source": [
    "### Other methods\n",
    "\n",
    "Similarly to Circle, Rectangles also have two more available methods:\n",
    "\n",
    "- intersection: intersection with a segment\n",
    "- encloses_point: to decide whether a point is within the rectangle"
   ]
  },
  {
   "cell_type": "code",
   "execution_count": 17,
   "metadata": {},
   "outputs": [
    {
     "data": {
      "text/plain": [
       "[Point(2.250, 3.000), Point(-2.250, -3.000)]"
      ]
     },
     "execution_count": 17,
     "metadata": {},
     "output_type": "execute_result"
    }
   ],
   "source": [
    "r.intersection(Segment(Point(-3,-4),Point(3,4)))"
   ]
  },
  {
   "cell_type": "code",
   "execution_count": 18,
   "metadata": {},
   "outputs": [
    {
     "data": {
      "text/plain": [
       "True"
      ]
     },
     "execution_count": 18,
     "metadata": {},
     "output_type": "execute_result"
    }
   ],
   "source": [
    "r.encloses_point(Point(1,2))"
   ]
  }
 ],
 "metadata": {
  "kernelspec": {
   "display_name": "Python 3",
   "language": "python",
   "name": "python3"
  },
  "language_info": {
   "codemirror_mode": {
    "name": "ipython",
    "version": 3
   },
   "file_extension": ".py",
   "mimetype": "text/x-python",
   "name": "python",
   "nbconvert_exporter": "python",
   "pygments_lexer": "ipython3",
   "version": "3.7.3"
  }
 },
 "nbformat": 4,
 "nbformat_minor": 2
}
