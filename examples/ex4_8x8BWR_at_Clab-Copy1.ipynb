{
 "cells": [
  {
   "cell_type": "markdown",
   "metadata": {},
   "source": [
    "# 8x8 BWR assembly at Clab\n",
    "\n",
    "This example is basically the same as the previous one, the only difference is that an 8x8 BWR assembly is being measured at the Clab storage facility in Sweden. There will be one detector with absorbers in front of it.\n",
    "\n",
    "We compare a case when the source locations are the center of the pins and an other case when 10 source locations are selected randomly in each pin."
   ]
  },
  {
   "cell_type": "code",
   "execution_count": 1,
   "metadata": {},
   "outputs": [],
   "source": [
    "from feign.geometry import *\n",
    "from feign.blocks import *"
   ]
  },
  {
   "cell_type": "markdown",
   "metadata": {},
   "source": [
    "## Materials\n",
    "\n",
    "The fuel pins are made of uranium-dioxide, in zirconium cladding. The pool around the assembly is filled with water. Outside the pool air is considered (in reality there is ofc concrete walls, but the direct gamma ray won't pass through that, so no need to model those).\n",
    "\n",
    "In front of the detector, three absorber sheets are placed made of lead, aluminium and copper."
   ]
  },
  {
   "cell_type": "code",
   "execution_count": 2,
   "metadata": {},
   "outputs": [],
   "source": [
    "uo2=Material('1')\n",
    "uo2.set_density(10.5)\n",
    "uo2.set_path(('/data/UO2.dat',1))\n",
    "\n",
    "he=Material('2')\n",
    "he.set_density(0.00561781)\n",
    "he.set_path(('/data/He.dat',1))\n",
    "\n",
    "zr=Material('3')\n",
    "zr.set_density(6.52)\n",
    "zr.set_path(('/data/Zr.dat',1))\n",
    "\n",
    "h2o=Material('4')\n",
    "h2o.set_density(1.0)\n",
    "h2o.set_path(('/data/H2O.dat',1))\n",
    "\n",
    "ss=Material('5')\n",
    "ss.set_density(8.02)\n",
    "ss.set_path(('/data/SS.dat',1))\n",
    "\n",
    "air=Material('6')\n",
    "air.set_density(0.001225)\n",
    "air.set_path(('/data/Air.dat',1))\n",
    "\n",
    "lead=Material('7')\n",
    "lead.set_density(11.34)\n",
    "lead.set_path(('/data/Pb.dat',1))\n",
    "\n",
    "copper=Material('8')\n",
    "copper.set_density(8.96)\n",
    "copper.set_path(('/data/Cu.dat',1))\n",
    "\n",
    "alu=Material('9')\n",
    "alu.set_density(2.7)\n",
    "alu.set_path(('/data/Al.dat',1))"
   ]
  },
  {
   "cell_type": "markdown",
   "metadata": {},
   "source": [
    "## Pins\n",
    "\n",
    "There are two types of pins in the assembly:\n",
    "\n",
    "- fuel pins\n",
    "- empty water channel"
   ]
  },
  {
   "cell_type": "code",
   "execution_count": 3,
   "metadata": {},
   "outputs": [],
   "source": [
    "fuel=Pin('1')\n",
    "fuel.add_region(uo2,0.52)\n",
    "fuel.add_region(he,0.53)\n",
    "fuel.add_region(zr,0.615)\n",
    "\n",
    "waterchannel=Pin('3')\n",
    "waterchannel.add_region(h2o,0.53)\n",
    "waterchannel.add_region(zr,0.615)"
   ]
  },
  {
   "cell_type": "markdown",
   "metadata": {},
   "source": [
    "## Assembly\n",
    "\n",
    "While defining the assembly we set the pitch in cm, the coolant, create a pool around the assembly, and define the PWR fuelmap.\n",
    "\n",
    "The corner of the assembly is facing the pool, and the distance from the center of the assembly to the pool wall is 55 cm.\n"
   ]
  },
  {
   "cell_type": "code",
   "execution_count": 4,
   "metadata": {},
   "outputs": [],
   "source": [
    "bwrOrig=Assembly(8,8)\n",
    "bwrOrig.set_pitch(1.62)\n",
    "bwrOrig.set_source(uo2)\n",
    "bwrOrig.set_coolant(h2o)\n",
    "bwrOrig.set_surrounding(air)\n",
    "bwrOrig.set_pins(fuel,waterchannel)\n",
    "\n",
    "fuelmap= [['1', '1', '1', '1', '1', '1', '1', '1'], \n",
    "          ['1', '1', '1', '1', '1', '1', '1', '1'], \n",
    "          ['1', '1', '1', '1', '1', '1', '1', '1'], \n",
    "          ['1', '1', '1', '1', '1', '1', '1', '1'], \n",
    "          ['1', '1', '1', '1', '3', '1', '1', '1'], \n",
    "          ['1', '1', '1', '1', '1', '1', '1', '1'], \n",
    "          ['1', '1', '1', '1', '1', '1', '1', '1'], \n",
    "          ['1', '1', '1', '1', '1', '1', '1', '1']]\n",
    "\n",
    "bwrOrig.set_fuelmap(fuelmap)\n",
    "pool=Rectangle(Point(55, 55),Point(55, -55),Point(-55, -55),Point(-55, 55)).rotate(45)\n",
    "bwrOrig.set_pool(pool)"
   ]
  },
  {
   "cell_type": "markdown",
   "metadata": {},
   "source": [
    "## Detector\n",
    "\n",
    "The detector point is facing the corner, and the distance of the detector from the center of the assembly is 247.1 cm.\n",
    "\n",
    "There is a collimator between the assembly and the detector. The back is 125cm from the center and has a 23.2 cm wide slit, and the front is 243cm from the center and has an 8.2 cm wide slit.\n",
    "\n",
    "An other detector point is facing the opposite corner."
   ]
  },
  {
   "cell_type": "code",
   "execution_count": 5,
   "metadata": {},
   "outputs": [],
   "source": [
    "det=Detector('D')\n",
    "det.set_location(Point(174.726, 174.726))\n",
    "\n",
    "coll=Collimator('collD')\n",
    "coll.set_back(Segment(Point(125.0,-11.6),Point(125.0,11.6)).rotate(45))\n",
    "coll.set_front(Segment(Point(243.0,-4.1),Point(243.0,4.1)).rotate(45))\n",
    "det.set_collimator(coll)\n"
   ]
  },
  {
   "cell_type": "markdown",
   "metadata": {},
   "source": [
    "## Absorber\n",
    "\n",
    "We can define an absorber with a Rectangle or a Circle object. We have to set the material of the absorber and the material which is accommodating the absorber. There are 4 absorber sheets in front of the detector: 1mm of copper, 21mm of stainless steel, 3mm of aluminium and 8mm of lead\n",
    "\n",
    "There is a thin steel of 5mm on the pool side as well, to keep out the water from the collimator hole."
   ]
  },
  {
   "cell_type": "code",
   "execution_count": 6,
   "metadata": {},
   "outputs": [],
   "source": [
    "steelwindow=Absorber('steelwindow')\n",
    "steelwindow.set_form(Rectangle(Point(55.0,-30),Point(55.0,30),Point(55.5,30),Point(55.5,-30)).rotate(45))\n",
    "steelwindow.set_material(ss)\n",
    "steelwindow.set_accommat(air)\n",
    "\n",
    "copper1mm=Absorber('copper1mm')\n",
    "copper1mm.set_form(Rectangle(Point(243.7, -40.0),Point(243.7, 40.0),Point(243.8,40),Point(243.8,-40)).rotate(45))\n",
    "copper1mm.set_material(copper)\n",
    "copper1mm.set_accommat(air)\n",
    "\n",
    "steel21mm=Absorber('steel21mm')\n",
    "steel21mm.set_form(Rectangle(Point(243.8,-40),Point(243.8,40),Point(245.9,40),Point(245.9,-40)).rotate(45))\n",
    "steel21mm.set_material(ss)\n",
    "steel21mm.set_accommat(air)\n",
    "\n",
    "alu3mm=Absorber('alu3mm')\n",
    "alu3mm.set_form(Rectangle(Point(245.9,-40),Point(245.9,40),Point(246.2,40),Point(246.2,-40)).rotate(45))\n",
    "alu3mm.set_material(alu)\n",
    "alu3mm.set_accommat(air)\n",
    "\n",
    "lead8mm=Absorber('lead8mm')\n",
    "lead8mm.set_form(Rectangle(Point(246.2,-40),Point(246.2,40),Point(247.0,40),Point(247.0,-40)).rotate(45))\n",
    "lead8mm.set_material(lead)\n",
    "lead8mm.set_accommat(air)"
   ]
  },
  {
   "cell_type": "markdown",
   "metadata": {},
   "source": [
    "## Experiment\n",
    "\n",
    "Finally we re ready to perform define our experiment."
   ]
  },
  {
   "cell_type": "code",
   "execution_count": 7,
   "metadata": {},
   "outputs": [],
   "source": [
    "ex4=Experiment()\n",
    "ex4.set_assembly(bwrOrig)\n",
    "ex4.set_detectors(det)\n",
    "ex4.set_materials(uo2,he,zr,h2o,air,lead,alu,copper,ss)\n",
    "ex4.set_absorbers(steelwindow,lead8mm,steel21mm,alu3mm,copper1mm)\n",
    "\n",
    "elines=['0.4971',\n",
    " '0.563',\n",
    " '0.569',\n",
    " '0.6006',\n",
    " '0.604',\n",
    " '0.6103',\n",
    " '0.621',\n",
    " '0.635',\n",
    " '0.662',\n",
    " '0.723',\n",
    " '0.724',\n",
    " '0.756',\n",
    " '0.757',\n",
    " '0.765',\n",
    " '0.795',\n",
    " '0.801',\n",
    " '0.873',\n",
    " '0.996',\n",
    " '1.004',\n",
    " '1.038',\n",
    " '1.05',\n",
    " '1.167',\n",
    " '1.205',\n",
    " '1.246',\n",
    " '1.274',\n",
    " '1.365',\n",
    " '1.494',\n",
    " '1.562',\n",
    " '1.596',\n",
    " '1.766',\n",
    " '1.797',\n",
    " '1.988',\n",
    " '2.112',\n",
    " '2.185']\n",
    "ex4.set_elines(elines)"
   ]
  },
  {
   "cell_type": "markdown",
   "metadata": {},
   "source": [
    "We can plot the geometry with the Plot() method. If the color attribute is set previously for the materials, then it is used for the plot, otherwise, the method will randomly assign colours for each material (the detector is set to white and the collimator is set to gray)."
   ]
  },
  {
   "cell_type": "code",
   "execution_count": 8,
   "metadata": {},
   "outputs": [
    {
     "data": {
      "image/png": "[encoded data removed]",
      "text/plain": [
       "<Figure size 432x288 with 1 Axes>"
      ]
     },
     "metadata": {
      "needs_background": "light"
     },
     "output_type": "display_data"
    },
    {
     "data": {
      "image/png": "[encoded data removed]",
      "text/plain": [
       "<Figure size 432x288 with 1 Axes>"
      ]
     },
     "metadata": {
      "needs_background": "light"
     },
     "output_type": "display_data"
    },
    {
     "data": {
      "image/png": "[encoded data removed]",
      "text/plain": [
       "<Figure size 432x288 with 1 Axes>"
      ]
     },
     "metadata": {
      "needs_background": "light"
     },
     "output_type": "display_data"
    }
   ],
   "source": [
    "uo2.set_color(\"#0f0e0e\")\n",
    "he.set_color(\"#474545\")\n",
    "zr.set_color(\"#635f5f\")\n",
    "h2o.set_color(\"#96deeb\")\n",
    "air.set_color(\"#ceedf2\")\n",
    "lead.set_color(\"#4e4869\")\n",
    "alu.set_color(\"#281b63\")\n",
    "copper.set_color(\"#5240a1\")\n",
    "ss.set_color(\"#3c3266\")\n",
    "ex4.Plot(xl=[-200.5,200.5],yl=[-200.5,200.5],detectorSize=0.4)\n",
    "ex4.Plot(xl=[170.5,200],yl=[170.5,200],detectorSize=0.4)\n",
    "ex4.Plot(xl=[-10,10],yl=[-10,10],detectorSize=0.4)"
   ]
  },
  {
   "cell_type": "markdown",
   "metadata": {},
   "source": [
    "When we run the experiment, we do not get any warnings, because everything is set."
   ]
  },
  {
   "cell_type": "code",
   "execution_count": 9,
   "metadata": {},
   "outputs": [
    {
     "name": "stdout",
     "output_type": "stream",
     "text": [
      "#0 is being calculated\n",
      "Distance travelled to detector D is being calculated\n",
      "Contribution to detector D is calculated...\n",
      "...for gamma energy 0.4971 MeV\n",
      "...for gamma energy 0.563 MeV\n",
      "...for gamma energy 0.569 MeV\n",
      "...for gamma energy 0.6006 MeV\n",
      "...for gamma energy 0.604 MeV\n",
      "...for gamma energy 0.6103 MeV\n",
      "...for gamma energy 0.621 MeV\n",
      "...for gamma energy 0.635 MeV\n",
      "...for gamma energy 0.662 MeV\n",
      "...for gamma energy 0.723 MeV\n",
      "...for gamma energy 0.724 MeV\n",
      "...for gamma energy 0.756 MeV\n",
      "...for gamma energy 0.757 MeV\n",
      "...for gamma energy 0.765 MeV\n",
      "...for gamma energy 0.795 MeV\n",
      "...for gamma energy 0.801 MeV\n",
      "...for gamma energy 0.873 MeV\n",
      "...for gamma energy 0.996 MeV\n",
      "...for gamma energy 1.004 MeV\n",
      "...for gamma energy 1.038 MeV\n",
      "...for gamma energy 1.05 MeV\n",
      "...for gamma energy 1.167 MeV\n",
      "...for gamma energy 1.205 MeV\n",
      "...for gamma energy 1.246 MeV\n",
      "...for gamma energy 1.274 MeV\n",
      "...for gamma energy 1.365 MeV\n",
      "...for gamma energy 1.494 MeV\n",
      "...for gamma energy 1.562 MeV\n",
      "...for gamma energy 1.596 MeV\n",
      "...for gamma energy 1.766 MeV\n",
      "...for gamma energy 1.797 MeV\n",
      "...for gamma energy 1.988 MeV\n",
      "...for gamma energy 2.112 MeV\n",
      "...for gamma energy 2.185 MeV\n"
     ]
    }
   ],
   "source": [
    "ex4.Run()"
   ]
  },
  {
   "cell_type": "markdown",
   "metadata": {},
   "source": [
    "## Plotting the results\n",
    "\n",
    "Plot the distance travelled in some material and the pinwise contribution."
   ]
  },
  {
   "cell_type": "code",
   "execution_count": 10,
   "metadata": {},
   "outputs": [
    {
     "data": {
      "text/plain": [
       "array([[0.52      , 0.52      , 0.52      , 0.52      , 0.52      ,\n",
       "        0.52      , 0.52      , 0.52      ],\n",
       "       [1.55223954, 1.55456556, 1.55649208, 1.55800944, 1.55910734,\n",
       "        1.55977478, 1.56      , 0.52      ],\n",
       "       [2.57315813, 2.58271374, 2.59020885, 2.59561506, 2.5988946 ,\n",
       "        2.6       , 1.55977478, 0.52      ],\n",
       "       [3.59219693, 3.61299665, 3.62792997, 3.63696088, 3.64      ,\n",
       "        2.5988946 , 1.55910734, 0.52      ],\n",
       "       [4.62293561, 4.65455761, 4.67360363, 4.68      , 0.        ,\n",
       "        2.59561506, 1.55800944, 0.52      ],\n",
       "       [5.67408899, 5.70847911, 5.72      , 3.63381661, 3.62792997,\n",
       "        2.59020885, 1.55649208, 0.52      ],\n",
       "       [6.7412677 , 6.76      , 4.66931583, 4.65455761, 3.61299665,\n",
       "        2.58271374, 1.55456556, 0.52      ],\n",
       "       [7.8       , 5.7031174 , 5.67408899, 4.62293561, 3.59219693,\n",
       "        2.57315813, 1.55223954, 0.52      ]])"
      ]
     },
     "execution_count": 10,
     "metadata": {},
     "output_type": "execute_result"
    }
   ],
   "source": [
    "ex4.dTmap['D']['1'] #to detector D, through matID '1'"
   ]
  },
  {
   "cell_type": "code",
   "execution_count": 11,
   "metadata": {},
   "outputs": [
    {
     "data": {
      "image/png": "[encoded data removed]",
      "text/plain": [
       "<Figure size 432x288 with 12 Axes>"
      ]
     },
     "metadata": {
      "needs_background": "light"
     },
     "output_type": "display_data"
    }
   ],
   "source": [
    "plt.figure()\n",
    "plt.subplot(321)\n",
    "plt.imshow(ex4.dTmap['D']['1'],cmap='jet')\n",
    "plt.title('uo2')\n",
    "plt.colorbar()\n",
    "\n",
    "plt.subplot(322)\n",
    "plt.imshow(ex4.dTmap['D']['2'],cmap='jet')\n",
    "plt.title('he')\n",
    "plt.colorbar()\n",
    "\n",
    "plt.subplot(323)\n",
    "plt.imshow(ex4.dTmap['D']['3'],cmap='jet')\n",
    "plt.title('zr')\n",
    "plt.colorbar()\n",
    "\n",
    "plt.subplot(324)\n",
    "plt.imshow(ex4.dTmap['D']['4'],cmap='jet')\n",
    "plt.title('h2o')\n",
    "plt.colorbar()\n",
    "\n",
    "plt.subplot(325)\n",
    "plt.imshow(ex4.dTmap['D']['5'],cmap='jet')\n",
    "plt.title('ss')\n",
    "plt.colorbar()\n",
    "\n",
    "plt.subplot(326)\n",
    "plt.imshow(ex4.dTmap['D']['6'],cmap='jet')\n",
    "plt.title('air')\n",
    "plt.colorbar()\n",
    "\n",
    "plt.subplots_adjust(bottom=0.1, right=1.4, top=2.1)\n",
    "\n",
    "plt.show()"
   ]
  },
  {
   "cell_type": "markdown",
   "metadata": {},
   "source": [
    "## Geometric efficiency and pinwise contribution\n",
    "\n",
    "We can see that high energy gamma photons emitted from central pins can contribute to the detector signal, whereas low energy photons cannot escape from central regions."
   ]
  },
  {
   "cell_type": "code",
   "execution_count": 12,
   "metadata": {},
   "outputs": [
    {
     "data": {
      "image/png": "[encoded data removed]",
      "text/plain": [
       "<Figure size 432x288 with 1 Axes>"
      ]
     },
     "metadata": {
      "needs_background": "light"
     },
     "output_type": "display_data"
    }
   ],
   "source": [
    "plt.figure()\n",
    "plt.plot(ex4.elines,ex4.geomEffAve)\n",
    "plt.xlabel('Energy (MeV)')\n",
    "plt.ylabel('Efficiency (1/particle)')\n",
    "plt.show()"
   ]
  },
  {
   "cell_type": "code",
   "execution_count": 13,
   "metadata": {},
   "outputs": [
    {
     "data": {
      "image/png": "[encoded data removed]",
      "text/plain": [
       "<Figure size 432x288 with 8 Axes>"
      ]
     },
     "metadata": {
      "needs_background": "light"
     },
     "output_type": "display_data"
    }
   ],
   "source": [
    "plt.figure()\n",
    "plt.subplot(221)\n",
    "plt.imshow(ex4.contributionMapAve['0.662'],cmap='jet')\n",
    "plt.title('Energy=0.662 MeV')\n",
    "plt.colorbar()\n",
    "\n",
    "plt.subplot(222)\n",
    "plt.imshow(ex4.contributionMapAve['0.996'],cmap='jet')\n",
    "plt.title('Energy=0.996 MeV')\n",
    "plt.colorbar()\n",
    "\n",
    "plt.subplot(223)\n",
    "plt.imshow(ex4.contributionMapAve['1.596'],cmap='jet')\n",
    "plt.title('Energy=1.596 MeV')\n",
    "plt.colorbar()\n",
    "\n",
    "plt.subplot(224)\n",
    "plt.imshow(ex4.contributionMapAve['2.112'],cmap='jet')\n",
    "plt.title('Energy=2.112 MeV')\n",
    "plt.colorbar()\n",
    "plt.subplots_adjust(bottom=0.1, right=1.8, top=1.6)\n",
    "\n",
    "plt.show()"
   ]
  },
  {
   "cell_type": "markdown",
   "metadata": {},
   "source": [
    "One can easily renormalize this plots in order to get weight percentage of the pin-wise contribution."
   ]
  },
  {
   "cell_type": "code",
   "execution_count": 14,
   "metadata": {},
   "outputs": [
    {
     "data": {
      "image/png": "[encoded data removed]",
      "text/plain": [
       "<Figure size 432x288 with 8 Axes>"
      ]
     },
     "metadata": {
      "needs_background": "light"
     },
     "output_type": "display_data"
    }
   ],
   "source": [
    "plt.figure()\n",
    "plt.subplot(221)\n",
    "plt.imshow(100*ex4.contributionMapAve['0.662']/np.sum(ex4.contributionMapAve['0.662']),cmap='jet')\n",
    "plt.title('Energy=0.662 MeV')\n",
    "plt.colorbar()\n",
    "\n",
    "plt.subplot(222)\n",
    "plt.imshow(100*ex4.contributionMapAve['0.996']/np.sum(ex4.contributionMapAve['0.996']),cmap='jet')\n",
    "plt.title('Energy=0.996 MeV')\n",
    "plt.colorbar()\n",
    "\n",
    "plt.subplot(223)\n",
    "plt.imshow(100*ex4.contributionMapAve['1.596']/np.sum(ex4.contributionMapAve['1.596']),cmap='jet')\n",
    "plt.title('Energy=1.596 MeV')\n",
    "plt.colorbar()\n",
    "\n",
    "plt.subplot(224)\n",
    "plt.imshow(100*ex4.contributionMapAve['2.112']/np.sum(ex4.contributionMapAve['2.112']),cmap='jet')\n",
    "plt.title('Energy=2.112 MeV')\n",
    "plt.colorbar()\n",
    "plt.subplots_adjust(bottom=0.1, right=1.8, top=1.6)\n",
    "\n",
    "plt.show()"
   ]
  },
  {
   "cell_type": "markdown",
   "metadata": {},
   "source": [
    "## Random case\n",
    "\n",
    "And the efficiency compared with the center case. We can see that in this realistic example the center source case tends to underestimate the geometric efficiency."
   ]
  },
  {
   "cell_type": "code",
   "execution_count": 15,
   "metadata": {},
   "outputs": [
    {
     "name": "stdout",
     "output_type": "stream",
     "text": [
      "#0 is being calculated\n",
      "Distance travelled to detector D is being calculated\n",
      "Contribution to detector D is calculated...\n",
      "...for gamma energy 0.4971 MeV\n",
      "...for gamma energy 0.563 MeV\n",
      "...for gamma energy 0.569 MeV\n",
      "...for gamma energy 0.6006 MeV\n",
      "...for gamma energy 0.604 MeV\n",
      "...for gamma energy 0.6103 MeV\n",
      "...for gamma energy 0.621 MeV\n",
      "...for gamma energy 0.635 MeV\n",
      "...for gamma energy 0.662 MeV\n",
      "...for gamma energy 0.723 MeV\n",
      "...for gamma energy 0.724 MeV\n",
      "...for gamma energy 0.756 MeV\n",
      "...for gamma energy 0.757 MeV\n",
      "...for gamma energy 0.765 MeV\n",
      "...for gamma energy 0.795 MeV\n",
      "...for gamma energy 0.801 MeV\n",
      "...for gamma energy 0.873 MeV\n",
      "...for gamma energy 0.996 MeV\n",
      "...for gamma energy 1.004 MeV\n",
      "...for gamma energy 1.038 MeV\n",
      "...for gamma energy 1.05 MeV\n",
      "...for gamma energy 1.167 MeV\n",
      "...for gamma energy 1.205 MeV\n",
      "...for gamma energy 1.246 MeV\n",
      "...for gamma energy 1.274 MeV\n",
      "...for gamma energy 1.365 MeV\n",
      "...for gamma energy 1.494 MeV\n",
      "...for gamma energy 1.562 MeV\n",
      "...for gamma energy 1.596 MeV\n",
      "...for gamma energy 1.766 MeV\n",
      "...for gamma energy 1.797 MeV\n",
      "...for gamma energy 1.988 MeV\n",
      "...for gamma energy 2.112 MeV\n",
      "...for gamma energy 2.185 MeV\n",
      "#1 is being calculated\n",
      "Distance travelled to detector D is being calculated\n",
      "Contribution to detector D is calculated...\n",
      "...for gamma energy 0.4971 MeV\n",
      "...for gamma energy 0.563 MeV\n",
      "...for gamma energy 0.569 MeV\n",
      "...for gamma energy 0.6006 MeV\n",
      "...for gamma energy 0.604 MeV\n",
      "...for gamma energy 0.6103 MeV\n",
      "...for gamma energy 0.621 MeV\n",
      "...for gamma energy 0.635 MeV\n",
      "...for gamma energy 0.662 MeV\n",
      "...for gamma energy 0.723 MeV\n",
      "...for gamma energy 0.724 MeV\n",
      "...for gamma energy 0.756 MeV\n",
      "...for gamma energy 0.757 MeV\n",
      "...for gamma energy 0.765 MeV\n",
      "...for gamma energy 0.795 MeV\n",
      "...for gamma energy 0.801 MeV\n",
      "...for gamma energy 0.873 MeV\n",
      "...for gamma energy 0.996 MeV\n",
      "...for gamma energy 1.004 MeV\n",
      "...for gamma energy 1.038 MeV\n",
      "...for gamma energy 1.05 MeV\n",
      "...for gamma energy 1.167 MeV\n",
      "...for gamma energy 1.205 MeV\n",
      "...for gamma energy 1.246 MeV\n",
      "...for gamma energy 1.274 MeV\n",
      "...for gamma energy 1.365 MeV\n",
      "...for gamma energy 1.494 MeV\n",
      "...for gamma energy 1.562 MeV\n",
      "...for gamma energy 1.596 MeV\n",
      "...for gamma energy 1.766 MeV\n",
      "...for gamma energy 1.797 MeV\n",
      "...for gamma energy 1.988 MeV\n",
      "...for gamma energy 2.112 MeV\n",
      "...for gamma energy 2.185 MeV\n",
      "#2 is being calculated\n",
      "Distance travelled to detector D is being calculated\n",
      "Contribution to detector D is calculated...\n",
      "...for gamma energy 0.4971 MeV\n",
      "...for gamma energy 0.563 MeV\n",
      "...for gamma energy 0.569 MeV\n",
      "...for gamma energy 0.6006 MeV\n",
      "...for gamma energy 0.604 MeV\n",
      "...for gamma energy 0.6103 MeV\n",
      "...for gamma energy 0.621 MeV\n",
      "...for gamma energy 0.635 MeV\n",
      "...for gamma energy 0.662 MeV\n",
      "...for gamma energy 0.723 MeV\n",
      "...for gamma energy 0.724 MeV\n",
      "...for gamma energy 0.756 MeV\n",
      "...for gamma energy 0.757 MeV\n",
      "...for gamma energy 0.765 MeV\n",
      "...for gamma energy 0.795 MeV\n",
      "...for gamma energy 0.801 MeV\n",
      "...for gamma energy 0.873 MeV\n",
      "...for gamma energy 0.996 MeV\n",
      "...for gamma energy 1.004 MeV\n",
      "...for gamma energy 1.038 MeV\n",
      "...for gamma energy 1.05 MeV\n",
      "...for gamma energy 1.167 MeV\n",
      "...for gamma energy 1.205 MeV\n",
      "...for gamma energy 1.246 MeV\n",
      "...for gamma energy 1.274 MeV\n",
      "...for gamma energy 1.365 MeV\n",
      "...for gamma energy 1.494 MeV\n",
      "...for gamma energy 1.562 MeV\n",
      "...for gamma energy 1.596 MeV\n",
      "...for gamma energy 1.766 MeV\n",
      "...for gamma energy 1.797 MeV\n",
      "...for gamma energy 1.988 MeV\n",
      "...for gamma energy 2.112 MeV\n",
      "...for gamma energy 2.185 MeV\n",
      "#3 is being calculated\n",
      "Distance travelled to detector D is being calculated\n",
      "Contribution to detector D is calculated...\n",
      "...for gamma energy 0.4971 MeV\n",
      "...for gamma energy 0.563 MeV\n",
      "...for gamma energy 0.569 MeV\n",
      "...for gamma energy 0.6006 MeV\n",
      "...for gamma energy 0.604 MeV\n",
      "...for gamma energy 0.6103 MeV\n",
      "...for gamma energy 0.621 MeV\n",
      "...for gamma energy 0.635 MeV\n",
      "...for gamma energy 0.662 MeV\n",
      "...for gamma energy 0.723 MeV\n",
      "...for gamma energy 0.724 MeV\n",
      "...for gamma energy 0.756 MeV\n",
      "...for gamma energy 0.757 MeV\n",
      "...for gamma energy 0.765 MeV\n",
      "...for gamma energy 0.795 MeV\n",
      "...for gamma energy 0.801 MeV\n",
      "...for gamma energy 0.873 MeV\n",
      "...for gamma energy 0.996 MeV\n",
      "...for gamma energy 1.004 MeV\n",
      "...for gamma energy 1.038 MeV\n",
      "...for gamma energy 1.05 MeV\n",
      "...for gamma energy 1.167 MeV\n",
      "...for gamma energy 1.205 MeV\n",
      "...for gamma energy 1.246 MeV\n",
      "...for gamma energy 1.274 MeV\n",
      "...for gamma energy 1.365 MeV\n",
      "...for gamma energy 1.494 MeV\n",
      "...for gamma energy 1.562 MeV\n",
      "...for gamma energy 1.596 MeV\n",
      "...for gamma energy 1.766 MeV\n",
      "...for gamma energy 1.797 MeV\n",
      "...for gamma energy 1.988 MeV\n",
      "...for gamma energy 2.112 MeV\n",
      "...for gamma energy 2.185 MeV\n",
      "#4 is being calculated\n",
      "Distance travelled to detector D is being calculated\n",
      "Contribution to detector D is calculated...\n",
      "...for gamma energy 0.4971 MeV\n",
      "...for gamma energy 0.563 MeV\n",
      "...for gamma energy 0.569 MeV\n",
      "...for gamma energy 0.6006 MeV\n",
      "...for gamma energy 0.604 MeV\n",
      "...for gamma energy 0.6103 MeV\n",
      "...for gamma energy 0.621 MeV\n",
      "...for gamma energy 0.635 MeV\n",
      "...for gamma energy 0.662 MeV\n",
      "...for gamma energy 0.723 MeV\n",
      "...for gamma energy 0.724 MeV\n",
      "...for gamma energy 0.756 MeV\n",
      "...for gamma energy 0.757 MeV\n",
      "...for gamma energy 0.765 MeV\n",
      "...for gamma energy 0.795 MeV\n",
      "...for gamma energy 0.801 MeV\n",
      "...for gamma energy 0.873 MeV\n",
      "...for gamma energy 0.996 MeV\n",
      "...for gamma energy 1.004 MeV\n",
      "...for gamma energy 1.038 MeV\n",
      "...for gamma energy 1.05 MeV\n",
      "...for gamma energy 1.167 MeV\n",
      "...for gamma energy 1.205 MeV\n",
      "...for gamma energy 1.246 MeV\n",
      "...for gamma energy 1.274 MeV\n",
      "...for gamma energy 1.365 MeV\n",
      "...for gamma energy 1.494 MeV\n",
      "...for gamma energy 1.562 MeV\n",
      "...for gamma energy 1.596 MeV\n",
      "...for gamma energy 1.766 MeV\n",
      "...for gamma energy 1.797 MeV\n",
      "...for gamma energy 1.988 MeV\n",
      "...for gamma energy 2.112 MeV\n",
      "...for gamma energy 2.185 MeV\n",
      "#5 is being calculated\n",
      "Distance travelled to detector D is being calculated\n",
      "Contribution to detector D is calculated...\n",
      "...for gamma energy 0.4971 MeV\n",
      "...for gamma energy 0.563 MeV\n",
      "...for gamma energy 0.569 MeV\n",
      "...for gamma energy 0.6006 MeV\n",
      "...for gamma energy 0.604 MeV\n",
      "...for gamma energy 0.6103 MeV\n",
      "...for gamma energy 0.621 MeV\n",
      "...for gamma energy 0.635 MeV\n",
      "...for gamma energy 0.662 MeV\n",
      "...for gamma energy 0.723 MeV\n",
      "...for gamma energy 0.724 MeV\n",
      "...for gamma energy 0.756 MeV\n",
      "...for gamma energy 0.757 MeV\n",
      "...for gamma energy 0.765 MeV\n",
      "...for gamma energy 0.795 MeV\n",
      "...for gamma energy 0.801 MeV\n",
      "...for gamma energy 0.873 MeV\n",
      "...for gamma energy 0.996 MeV\n",
      "...for gamma energy 1.004 MeV\n",
      "...for gamma energy 1.038 MeV\n",
      "...for gamma energy 1.05 MeV\n",
      "...for gamma energy 1.167 MeV\n",
      "...for gamma energy 1.205 MeV\n",
      "...for gamma energy 1.246 MeV\n",
      "...for gamma energy 1.274 MeV\n",
      "...for gamma energy 1.365 MeV\n",
      "...for gamma energy 1.494 MeV\n",
      "...for gamma energy 1.562 MeV\n",
      "...for gamma energy 1.596 MeV\n",
      "...for gamma energy 1.766 MeV\n",
      "...for gamma energy 1.797 MeV\n",
      "...for gamma energy 1.988 MeV\n",
      "...for gamma energy 2.112 MeV\n",
      "...for gamma energy 2.185 MeV\n",
      "#6 is being calculated\n",
      "Distance travelled to detector D is being calculated\n",
      "Contribution to detector D is calculated...\n",
      "...for gamma energy 0.4971 MeV\n",
      "...for gamma energy 0.563 MeV\n",
      "...for gamma energy 0.569 MeV\n",
      "...for gamma energy 0.6006 MeV\n",
      "...for gamma energy 0.604 MeV\n",
      "...for gamma energy 0.6103 MeV\n",
      "...for gamma energy 0.621 MeV\n",
      "...for gamma energy 0.635 MeV\n",
      "...for gamma energy 0.662 MeV\n",
      "...for gamma energy 0.723 MeV\n",
      "...for gamma energy 0.724 MeV\n",
      "...for gamma energy 0.756 MeV\n",
      "...for gamma energy 0.757 MeV\n",
      "...for gamma energy 0.765 MeV\n",
      "...for gamma energy 0.795 MeV\n",
      "...for gamma energy 0.801 MeV\n",
      "...for gamma energy 0.873 MeV\n",
      "...for gamma energy 0.996 MeV\n",
      "...for gamma energy 1.004 MeV\n",
      "...for gamma energy 1.038 MeV\n",
      "...for gamma energy 1.05 MeV\n",
      "...for gamma energy 1.167 MeV\n",
      "...for gamma energy 1.205 MeV\n",
      "...for gamma energy 1.246 MeV\n",
      "...for gamma energy 1.274 MeV\n",
      "...for gamma energy 1.365 MeV\n",
      "...for gamma energy 1.494 MeV\n",
      "...for gamma energy 1.562 MeV\n",
      "...for gamma energy 1.596 MeV\n",
      "...for gamma energy 1.766 MeV\n",
      "...for gamma energy 1.797 MeV\n",
      "...for gamma energy 1.988 MeV\n",
      "...for gamma energy 2.112 MeV\n",
      "...for gamma energy 2.185 MeV\n",
      "#7 is being calculated\n",
      "Distance travelled to detector D is being calculated\n",
      "Contribution to detector D is calculated...\n",
      "...for gamma energy 0.4971 MeV\n",
      "...for gamma energy 0.563 MeV\n",
      "...for gamma energy 0.569 MeV\n",
      "...for gamma energy 0.6006 MeV\n",
      "...for gamma energy 0.604 MeV\n",
      "...for gamma energy 0.6103 MeV\n",
      "...for gamma energy 0.621 MeV\n",
      "...for gamma energy 0.635 MeV\n",
      "...for gamma energy 0.662 MeV\n",
      "...for gamma energy 0.723 MeV\n",
      "...for gamma energy 0.724 MeV\n",
      "...for gamma energy 0.756 MeV\n",
      "...for gamma energy 0.757 MeV\n",
      "...for gamma energy 0.765 MeV\n",
      "...for gamma energy 0.795 MeV\n",
      "...for gamma energy 0.801 MeV\n",
      "...for gamma energy 0.873 MeV\n",
      "...for gamma energy 0.996 MeV\n",
      "...for gamma energy 1.004 MeV\n",
      "...for gamma energy 1.038 MeV\n",
      "...for gamma energy 1.05 MeV\n",
      "...for gamma energy 1.167 MeV\n",
      "...for gamma energy 1.205 MeV\n",
      "...for gamma energy 1.246 MeV\n",
      "...for gamma energy 1.274 MeV\n",
      "...for gamma energy 1.365 MeV\n",
      "...for gamma energy 1.494 MeV\n",
      "...for gamma energy 1.562 MeV\n",
      "...for gamma energy 1.596 MeV\n",
      "...for gamma energy 1.766 MeV\n",
      "...for gamma energy 1.797 MeV\n",
      "...for gamma energy 1.988 MeV\n",
      "...for gamma energy 2.112 MeV\n",
      "...for gamma energy 2.185 MeV\n",
      "#8 is being calculated\n",
      "Distance travelled to detector D is being calculated\n",
      "Contribution to detector D is calculated...\n",
      "...for gamma energy 0.4971 MeV\n",
      "...for gamma energy 0.563 MeV\n",
      "...for gamma energy 0.569 MeV\n",
      "...for gamma energy 0.6006 MeV\n",
      "...for gamma energy 0.604 MeV\n",
      "...for gamma energy 0.6103 MeV\n",
      "...for gamma energy 0.621 MeV\n",
      "...for gamma energy 0.635 MeV\n",
      "...for gamma energy 0.662 MeV\n",
      "...for gamma energy 0.723 MeV\n",
      "...for gamma energy 0.724 MeV\n",
      "...for gamma energy 0.756 MeV\n",
      "...for gamma energy 0.757 MeV\n",
      "...for gamma energy 0.765 MeV\n",
      "...for gamma energy 0.795 MeV\n",
      "...for gamma energy 0.801 MeV\n",
      "...for gamma energy 0.873 MeV\n",
      "...for gamma energy 0.996 MeV\n",
      "...for gamma energy 1.004 MeV\n",
      "...for gamma energy 1.038 MeV\n",
      "...for gamma energy 1.05 MeV\n",
      "...for gamma energy 1.167 MeV\n",
      "...for gamma energy 1.205 MeV\n",
      "...for gamma energy 1.246 MeV\n",
      "...for gamma energy 1.274 MeV\n",
      "...for gamma energy 1.365 MeV\n",
      "...for gamma energy 1.494 MeV\n",
      "...for gamma energy 1.562 MeV\n",
      "...for gamma energy 1.596 MeV\n",
      "...for gamma energy 1.766 MeV\n",
      "...for gamma energy 1.797 MeV\n",
      "...for gamma energy 1.988 MeV\n",
      "...for gamma energy 2.112 MeV\n",
      "...for gamma energy 2.185 MeV\n",
      "#9 is being calculated\n",
      "Distance travelled to detector D is being calculated\n"
     ]
    },
    {
     "name": "stdout",
     "output_type": "stream",
     "text": [
      "Contribution to detector D is calculated...\n",
      "...for gamma energy 0.4971 MeV\n",
      "...for gamma energy 0.563 MeV\n",
      "...for gamma energy 0.569 MeV\n",
      "...for gamma energy 0.6006 MeV\n",
      "...for gamma energy 0.604 MeV\n",
      "...for gamma energy 0.6103 MeV\n",
      "...for gamma energy 0.621 MeV\n",
      "...for gamma energy 0.635 MeV\n",
      "...for gamma energy 0.662 MeV\n",
      "...for gamma energy 0.723 MeV\n",
      "...for gamma energy 0.724 MeV\n",
      "...for gamma energy 0.756 MeV\n",
      "...for gamma energy 0.757 MeV\n",
      "...for gamma energy 0.765 MeV\n",
      "...for gamma energy 0.795 MeV\n",
      "...for gamma energy 0.801 MeV\n",
      "...for gamma energy 0.873 MeV\n",
      "...for gamma energy 0.996 MeV\n",
      "...for gamma energy 1.004 MeV\n",
      "...for gamma energy 1.038 MeV\n",
      "...for gamma energy 1.05 MeV\n",
      "...for gamma energy 1.167 MeV\n",
      "...for gamma energy 1.205 MeV\n",
      "...for gamma energy 1.246 MeV\n",
      "...for gamma energy 1.274 MeV\n",
      "...for gamma energy 1.365 MeV\n",
      "...for gamma energy 1.494 MeV\n",
      "...for gamma energy 1.562 MeV\n",
      "...for gamma energy 1.596 MeV\n",
      "...for gamma energy 1.766 MeV\n",
      "...for gamma energy 1.797 MeV\n",
      "...for gamma energy 1.988 MeV\n",
      "...for gamma energy 2.112 MeV\n",
      "...for gamma energy 2.185 MeV\n"
     ]
    }
   ],
   "source": [
    "ex4random=Experiment()\n",
    "ex4random.set_assembly(bwrOrig)\n",
    "ex4random.set_detectors(det)\n",
    "ex4random.set_materials(uo2,he,zr,h2o,air,lead,alu,copper,ss)\n",
    "ex4random.set_absorbers(steelwindow,lead8mm,steel21mm,alu3mm,copper1mm)\n",
    "ex4random.set_elines(elines)\n",
    "ex4random.set_random(10)\n",
    "ex4random.Run()"
   ]
  },
  {
   "cell_type": "code",
   "execution_count": 16,
   "metadata": {},
   "outputs": [
    {
     "data": {
      "image/png": "[encoded data removed]",
      "text/plain": [
       "<Figure size 432x288 with 1 Axes>"
      ]
     },
     "metadata": {
      "needs_background": "light"
     },
     "output_type": "display_data"
    }
   ],
   "source": [
    "plt.figure()\n",
    "plt.errorbar(ex4random.elines,ex4random.geomEffAve,3*ex4random.geomEffAveErr,label='Random location in pin as source')\n",
    "plt.plot(ex4.elines,ex4.geomEffAve,'r',label='Pin center as source')\n",
    "plt.legend()\n",
    "plt.xlabel('Energy (MeV)')\n",
    "plt.ylabel('Efficiency (1/particle)')\n",
    "plt.show()"
   ]
  }
 ],
 "metadata": {
  "kernelspec": {
   "display_name": "Python 3",
   "language": "python",
   "name": "python3"
  },
  "language_info": {
   "codemirror_mode": {
    "name": "ipython",
    "version": 3
   },
   "file_extension": ".py",
   "mimetype": "text/x-python",
   "name": "python",
   "nbconvert_exporter": "python",
   "pygments_lexer": "ipython3",
   "version": "3.7.3"
  }
 },
 "nbformat": 4,
 "nbformat_minor": 2
}
